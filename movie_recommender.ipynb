{
 "cells": [
  {
   "cell_type": "markdown",
   "id": "5315e602",
   "metadata": {},
   "source": [
    "# 🎬 Movie Recommendation System using SVD and Scikit-Learn\n",
    "This notebook demonstrates how to build a **movie recommendation system** using **Singular Value Decomposition (SVD)** with **Scikit-learn's TruncatedSVD**, pipelines, and visualizations."
   ]
  },
  {
   "cell_type": "code",
   "execution_count": null,
   "id": "69ab6b47",
   "metadata": {},
   "outputs": [],
   "source": [
    "import pandas as pd\n",
    "import numpy as np\n",
    "import matplotlib.pyplot as plt\n",
    "import seaborn as sns\n",
    "from sklearn.base import BaseEstimator, TransformerMixin\n",
    "from sklearn.pipeline import Pipeline\n",
    "from sklearn.decomposition import TruncatedSVD\n",
    "from sklearn.metrics import mean_squared_error\n",
    "from math import sqrt\n"
   ]
  },
  {
   "cell_type": "code",
   "execution_count": null,
   "id": "84c5a299",
   "metadata": {},
   "outputs": [],
   "source": [
    "movies = pd.read_csv('movies.csv')\n",
    "ratings = pd.read_csv('ratings.csv')\n",
    "tags = pd.read_csv('tags.csv')\n",
    "\n",
    "print(\"Movies:\")\n",
    "display(movies.head())\n",
    "\n",
    "print(\"Ratings:\")\n",
    "display(ratings.head())\n",
    "\n",
    "print(\"Tags:\")\n",
    "display(tags.head())\n"
   ]
  },
  {
   "cell_type": "code",
   "execution_count": null,
   "id": "468f1c8d",
   "metadata": {},
   "outputs": [],
   "source": [
    "class RatingsMatrixBuilder(BaseEstimator, TransformerMixin):\n",
    "    def fit(self, X, y=None):\n",
    "        return self\n",
    "\n",
    "    def transform(self, X):\n",
    "        return X.pivot_table(index='userId', columns='movieId', values='rating').fillna(0)\n",
    "\n",
    "class MeanCentering(BaseEstimator, TransformerMixin):\n",
    "    def fit(self, X, y=None):\n",
    "        self.means_ = np.mean(X, axis=1)\n",
    "        return self\n",
    "\n",
    "    def transform(self, X):\n",
    "        return X - self.means_[:, np.newaxis]\n"
   ]
  },
  {
   "cell_type": "code",
   "execution_count": null,
   "id": "9f1368f9",
   "metadata": {},
   "outputs": [],
   "source": [
    "pipeline = Pipeline([\n",
    "    ('matrix', RatingsMatrixBuilder()),\n",
    "    ('center', MeanCentering()),\n",
    "    ('svd', TruncatedSVD(n_components=50, random_state=42))\n",
    "])\n",
    "\n",
    "X = ratings[['userId','movieId','rating']]\n",
    "X_transformed = pipeline.fit_transform(X)\n",
    "print(\"SVD Transformation Shape:\", X_transformed.shape)\n"
   ]
  },
  {
   "cell_type": "code",
   "execution_count": null,
   "id": "f6a1b453",
   "metadata": {},
   "outputs": [],
   "source": [
    "explained_variance = pipeline.named_steps['svd'].explained_variance_ratio_\n",
    "plt.figure(figsize=(10,5))\n",
    "plt.plot(np.cumsum(explained_variance), marker='o')\n",
    "plt.title('Cumulative Explained Variance by SVD Components')\n",
    "plt.xlabel('Number of Components')\n",
    "plt.ylabel('Cumulative Explained Variance')\n",
    "plt.grid()\n",
    "plt.show()\n"
   ]
  },
  {
   "cell_type": "code",
   "execution_count": null,
   "id": "ad267a66",
   "metadata": {},
   "outputs": [],
   "source": [
    "matrix_builder = pipeline.named_steps['matrix']\n",
    "user_item_matrix = matrix_builder.transform(X).values\n",
    "svd = pipeline.named_steps['svd']\n",
    "\n",
    "reconstructed = svd.inverse_transform(X_transformed)\n",
    "rmse = sqrt(mean_squared_error(user_item_matrix, reconstructed))\n",
    "print(f\"RMSE between Original and Reconstructed Ratings: {rmse:.4f}\")\n"
   ]
  },
  {
   "cell_type": "code",
   "execution_count": null,
   "id": "c42d5770",
   "metadata": {},
   "outputs": [],
   "source": [
    "plt.figure(figsize=(6,6))\n",
    "plt.scatter(user_item_matrix.flatten(), reconstructed.flatten(), alpha=0.1)\n",
    "plt.title('Original vs Reconstructed Ratings')\n",
    "plt.xlabel('Original Ratings')\n",
    "plt.ylabel('Reconstructed Ratings')\n",
    "plt.grid()\n",
    "plt.show()\n"
   ]
  },
  {
   "cell_type": "code",
   "execution_count": null,
   "id": "5fb4f5ed",
   "metadata": {},
   "outputs": [],
   "source": [
    "movie_id_to_title = dict(zip(movies['movieId'], movies['title']))\n",
    "\n",
    "def recommend_movies(user_id, top_n=10):\n",
    "    user_index = user_id - 1\n",
    "    user_ratings = reconstructed[user_index]\n",
    "    original_ratings = user_item_matrix[user_index]\n",
    "\n",
    "    unseen = np.where(original_ratings == 0)[0]\n",
    "    recommendations = [(idx, user_ratings[idx]) for idx in unseen]\n",
    "    recommendations = sorted(recommendations, key=lambda x: x[1], reverse=True)[:top_n]\n",
    "\n",
    "    recommended_titles = [(movie_id_to_title[matrix_builder.transform(X).columns[idx]], score)\n",
    "                          for idx, score in recommendations]\n",
    "    return recommended_titles\n",
    "\n",
    "print(\"Top Recommendations for User 1:\")\n",
    "display(recommend_movies(1))\n"
   ]
  },
  {
   "cell_type": "code",
   "execution_count": null,
   "id": "828dc39a",
   "metadata": {},
   "outputs": [],
   "source": [
    "recs = recommend_movies(1, top_n=10)\n",
    "titles = [r[0] for r in recs]\n",
    "scores = [r[1] for r in recs]\n",
    "\n",
    "plt.figure(figsize=(10,5))\n",
    "sns.barplot(x=scores, y=titles, palette='viridis')\n",
    "plt.title('Top 10 Movie Recommendations for User 1')\n",
    "plt.xlabel('Predicted Rating')\n",
    "plt.ylabel('Movie')\n",
    "plt.show()\n"
   ]
  }
 ],
 "metadata": {},
 "nbformat": 4,
 "nbformat_minor": 5
}